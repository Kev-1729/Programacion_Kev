{
  "cells": [
    {
      "cell_type": "markdown",
      "metadata": {
        "id": "xlRvAsO-xcPS"
      },
      "source": [
        "# Python en pocos pasos\n",
        "\n",
        "Este no es un overview completo de Python o de programación.\n",
        "\n",
        "Este notebook contine los siguientes tópicos en el orden que se indica:\n",
        "\n",
        "* Tipos de datos\n",
        "    * Números\n",
        "    * Cadenas\n",
        "    * Impresión\n",
        "    * Listas\n",
        "    * Diccionarios\n",
        "    * Booleanos\n",
        "    * Tuplas\n",
        "    * Conjuntos\n",
        "* Operadores de comparación\n",
        "* Sentencias if,elif, else\n",
        "* Bucles for\n",
        "* Bucles while\n",
        "* range()\n",
        "* listas por comprensión\n",
        "* funciones\n",
        "* expresiones lambda\n",
        "* map y filter\n",
        "* métodos\n",
        "* arreglos con numpy\n",
        "____\n",
        "\n",
        "Propiedad de la FISI, pedir permiso a Kevin Tupac Agüero."
      ]
    },
    {
      "cell_type": "markdown",
      "metadata": {
        "id": "v0_aC9VmxcPU"
      },
      "source": [
        "# **Estructura de Control Secuencial**\n"
      ]
    },
    {
      "cell_type": "markdown",
      "source": [
        "## Teoria"
      ],
      "metadata": {
        "id": "jx6ad-FrWnV7"
      }
    },
    {
      "cell_type": "code",
      "execution_count": 1,
      "metadata": {
        "id": "8bKjLpgixcPV",
        "outputId": "0ef484aa-303c-4d5c-e73e-20c2f7329186",
        "colab": {
          "base_uri": "https://localhost:8080/"
        }
      },
      "outputs": [
        {
          "output_type": "execute_result",
          "data": {
            "text/plain": [
              "2"
            ]
          },
          "metadata": {},
          "execution_count": 1
        }
      ],
      "source": [
        "# Suma\n",
        "1 + 1"
      ]
    },
    {
      "cell_type": "code",
      "execution_count": null,
      "metadata": {
        "id": "2dvXzs2zxcPW",
        "outputId": "7b5bb2f7-0692-41c8-8e9a-3e2bf0347428"
      },
      "outputs": [
        {
          "data": {
            "text/plain": [
              "3"
            ]
          },
          "execution_count": 2,
          "metadata": {},
          "output_type": "execute_result"
        }
      ],
      "source": [
        "# Multiplicacion\n",
        "1 * 3"
      ]
    },
    {
      "cell_type": "code",
      "execution_count": null,
      "metadata": {
        "id": "fknVwBgrxcPX",
        "outputId": "86391bb2-294f-44d5-a4aa-87c88b08f714"
      },
      "outputs": [
        {
          "data": {
            "text/plain": [
              "0.5"
            ]
          },
          "execution_count": 3,
          "metadata": {},
          "output_type": "execute_result"
        }
      ],
      "source": [
        "# divicion\n",
        "1 / 2"
      ]
    },
    {
      "cell_type": "code",
      "execution_count": null,
      "metadata": {
        "id": "uj21xgrcxcPX",
        "outputId": "70293ec8-01d1-4ffc-a70f-62a8a802ac24"
      },
      "outputs": [
        {
          "data": {
            "text/plain": [
              "2"
            ]
          },
          "execution_count": 4,
          "metadata": {},
          "output_type": "execute_result"
        }
      ],
      "source": [
        "# division entera\n",
        "5 // 2"
      ]
    },
    {
      "cell_type": "code",
      "execution_count": null,
      "metadata": {
        "id": "pKjlPrlBxcPY",
        "outputId": "4d291c8f-1e9b-4b06-ba3d-e6781aec7cf4"
      },
      "outputs": [
        {
          "data": {
            "text/plain": [
              "16"
            ]
          },
          "execution_count": 5,
          "metadata": {},
          "output_type": "execute_result"
        }
      ],
      "source": [
        "# Potenciacion\n",
        "2 ** 4"
      ]
    },
    {
      "cell_type": "code",
      "execution_count": null,
      "metadata": {
        "id": "uhvIjSftxcPZ",
        "outputId": "4794df78-1fce-4ece-9a1e-b6a2a4b8ae50"
      },
      "outputs": [
        {
          "data": {
            "text/plain": [
              "0"
            ]
          },
          "execution_count": 6,
          "metadata": {},
          "output_type": "execute_result"
        }
      ],
      "source": [
        "# Modulo\n",
        "4 % 2"
      ]
    },
    {
      "cell_type": "code",
      "execution_count": null,
      "metadata": {
        "id": "JMqfV4lNxcPZ",
        "outputId": "1a97c807-b428-4b0d-9562-7cb31a0b3097"
      },
      "outputs": [
        {
          "data": {
            "text/plain": [
              "1"
            ]
          },
          "execution_count": 7,
          "metadata": {},
          "output_type": "execute_result"
        }
      ],
      "source": [
        "# Modulo\n",
        "5 % 2"
      ]
    },
    {
      "cell_type": "code",
      "execution_count": null,
      "metadata": {
        "id": "aeQKBNRjxcPa",
        "outputId": "dbe7a898-0b9a-4d83-9464-9dc7c077a473"
      },
      "outputs": [
        {
          "data": {
            "text/plain": [
              "50"
            ]
          },
          "execution_count": 8,
          "metadata": {},
          "output_type": "execute_result"
        }
      ],
      "source": [
        "# Operaciones con parentesis\n",
        "(2 + 3) * (5 + 5)"
      ]
    },
    {
      "cell_type": "markdown",
      "metadata": {
        "id": "1lsjI-O0xcPb"
      },
      "source": [
        "### Asignación de variables"
      ]
    },
    {
      "cell_type": "code",
      "execution_count": null,
      "metadata": {
        "id": "MAG9viB8xcPb"
      },
      "outputs": [],
      "source": [
        "# No puede comenzar con números o caracteres especiales\n",
        "nombre_de_variable = 2"
      ]
    },
    {
      "cell_type": "code",
      "execution_count": null,
      "metadata": {
        "id": "fxPVkHYZxcPb"
      },
      "outputs": [],
      "source": [
        "x = 2\n",
        "y = 3"
      ]
    },
    {
      "cell_type": "code",
      "execution_count": null,
      "metadata": {
        "id": "wLPdrKfdxcPb"
      },
      "outputs": [],
      "source": [
        "z = x + y"
      ]
    },
    {
      "cell_type": "markdown",
      "metadata": {
        "id": "cGAcK3nOxcPc"
      },
      "source": [
        "### Cadenas"
      ]
    },
    {
      "cell_type": "code",
      "execution_count": null,
      "metadata": {
        "id": "GhCCHUtxxcPc",
        "outputId": "657f948e-73aa-4207-b21a-915f594e4c0b"
      },
      "outputs": [
        {
          "data": {
            "text/plain": [
              "'comillas simples'"
            ]
          },
          "execution_count": 13,
          "metadata": {},
          "output_type": "execute_result"
        }
      ],
      "source": [
        "'comillas simples'"
      ]
    },
    {
      "cell_type": "code",
      "execution_count": null,
      "metadata": {
        "id": "eSM_omOWxcPc",
        "outputId": "430a8a7c-1f2d-4318-a528-46ba82ccd581"
      },
      "outputs": [
        {
          "data": {
            "text/plain": [
              "'comillas dobles'"
            ]
          },
          "execution_count": 14,
          "metadata": {},
          "output_type": "execute_result"
        }
      ],
      "source": [
        "\"comillas dobles\""
      ]
    },
    {
      "cell_type": "code",
      "execution_count": null,
      "metadata": {
        "id": "pVVeDlasxcPc",
        "outputId": "2ba93e5d-6bd7-4bd6-9ca8-86164020f3fe"
      },
      "outputs": [
        {
          "data": {
            "text/plain": [
              "\"envolver otras 'citas'\""
            ]
          },
          "execution_count": 15,
          "metadata": {},
          "output_type": "execute_result"
        }
      ],
      "source": [
        "\"envolver otras 'citas'\""
      ]
    },
    {
      "cell_type": "code",
      "execution_count": null,
      "metadata": {
        "id": "svhe-ZCIxcPc",
        "outputId": "245fc416-ed9e-4011-cbcf-be1be04ce89f"
      },
      "outputs": [
        {
          "data": {
            "text/plain": [
              "'envolver otras \"citas\"'"
            ]
          },
          "execution_count": 16,
          "metadata": {},
          "output_type": "execute_result"
        }
      ],
      "source": [
        "'envolver otras \"citas\"'"
      ]
    },
    {
      "cell_type": "markdown",
      "metadata": {
        "id": "GdpVGw7ixcPd"
      },
      "source": [
        "### Impresión"
      ]
    },
    {
      "cell_type": "code",
      "execution_count": null,
      "metadata": {
        "id": "3jYFSAcrxcPd"
      },
      "outputs": [],
      "source": [
        "x = 'hola'"
      ]
    },
    {
      "cell_type": "code",
      "execution_count": null,
      "metadata": {
        "id": "O-bnvpcBxcPd",
        "outputId": "75c31368-e84d-41fd-d3be-f7f9320a6c65"
      },
      "outputs": [
        {
          "data": {
            "text/plain": [
              "'hola'"
            ]
          },
          "execution_count": 18,
          "metadata": {},
          "output_type": "execute_result"
        }
      ],
      "source": [
        "x"
      ]
    },
    {
      "cell_type": "code",
      "execution_count": null,
      "metadata": {
        "id": "anrHZwyCxcPd",
        "outputId": "8cc553be-5770-410f-fa90-b7ef350aa7d9"
      },
      "outputs": [
        {
          "name": "stdout",
          "output_type": "stream",
          "text": [
            "hola\n"
          ]
        }
      ],
      "source": [
        "print(x)"
      ]
    },
    {
      "cell_type": "code",
      "execution_count": null,
      "metadata": {
        "id": "EOoZMo_SxcPd"
      },
      "outputs": [],
      "source": [
        "numero = 12\n",
        "nombre = 'Samuel'"
      ]
    },
    {
      "cell_type": "code",
      "execution_count": null,
      "metadata": {
        "id": "mbqF3Q82xcPd",
        "outputId": "1d93e93a-b8e9-4d1b-c807-4f4967bd0263"
      },
      "outputs": [
        {
          "name": "stdout",
          "output_type": "stream",
          "text": [
            "Mi número es: 12, y mi nombre es: Samuel\n"
          ]
        }
      ],
      "source": [
        "print('Mi número es: {uno}, y mi nombre es: {dos}'.format(uno=numero,dos=nombre))"
      ]
    },
    {
      "cell_type": "code",
      "execution_count": null,
      "metadata": {
        "id": "5bXyJiEixcPe",
        "outputId": "e139e35d-b905-4a07-fc78-3724a0512362"
      },
      "outputs": [
        {
          "name": "stdout",
          "output_type": "stream",
          "text": [
            "Mi número es: 12, y mi nombre es: Samuel\n"
          ]
        }
      ],
      "source": [
        "print('Mi número es: {}, y mi nombre es: {}'.format(numero,nombre))"
      ]
    },
    {
      "cell_type": "markdown",
      "metadata": {
        "id": "YSAWp4IgxcPe"
      },
      "source": [
        "### Listas"
      ]
    },
    {
      "cell_type": "code",
      "execution_count": null,
      "metadata": {
        "id": "iLLo22ZaxcPe",
        "outputId": "0f1a2ecb-b3f4-4624-d860-7c923d4f6450"
      },
      "outputs": [
        {
          "data": {
            "text/plain": [
              "[1, 2, 3]"
            ]
          },
          "execution_count": 23,
          "metadata": {},
          "output_type": "execute_result"
        }
      ],
      "source": [
        "[1,2,3]"
      ]
    },
    {
      "cell_type": "code",
      "execution_count": null,
      "metadata": {
        "id": "ri6Mj9kGxcPe",
        "outputId": "3ff459b3-45d2-4233-b925-628ff9c591f4"
      },
      "outputs": [
        {
          "data": {
            "text/plain": [
              "['hi', 1, [1, 2]]"
            ]
          },
          "execution_count": 24,
          "metadata": {},
          "output_type": "execute_result"
        }
      ],
      "source": [
        "['hi',1,[1,2]]"
      ]
    },
    {
      "cell_type": "code",
      "execution_count": null,
      "metadata": {
        "id": "WopJpsDbxcPg"
      },
      "outputs": [],
      "source": [
        "mi_lista = ['a','b','c']"
      ]
    },
    {
      "cell_type": "code",
      "execution_count": null,
      "metadata": {
        "id": "k9q253M7xcPg"
      },
      "outputs": [],
      "source": [
        "mi_lista.append('d')"
      ]
    },
    {
      "cell_type": "code",
      "execution_count": null,
      "metadata": {
        "id": "J6PpYj1PxcPh",
        "outputId": "0eaa3b19-c4f7-4db6-fc5c-d73e6321ea2f"
      },
      "outputs": [
        {
          "data": {
            "text/plain": [
              "['a', 'b', 'c', 'd']"
            ]
          },
          "execution_count": 27,
          "metadata": {},
          "output_type": "execute_result"
        }
      ],
      "source": [
        "mi_lista"
      ]
    },
    {
      "cell_type": "code",
      "execution_count": null,
      "metadata": {
        "id": "6T5JwZxAxcPi",
        "outputId": "29b7553c-67ad-4913-a934-1a36295bb626"
      },
      "outputs": [
        {
          "data": {
            "text/plain": [
              "'a'"
            ]
          },
          "execution_count": 28,
          "metadata": {},
          "output_type": "execute_result"
        }
      ],
      "source": [
        "mi_lista[0]"
      ]
    },
    {
      "cell_type": "code",
      "execution_count": null,
      "metadata": {
        "id": "jGqgUvWPxcPi",
        "outputId": "57f917e1-8060-4c6a-ae99-a7335ad538c9"
      },
      "outputs": [
        {
          "data": {
            "text/plain": [
              "'b'"
            ]
          },
          "execution_count": 29,
          "metadata": {},
          "output_type": "execute_result"
        }
      ],
      "source": [
        "mi_lista[1]"
      ]
    },
    {
      "cell_type": "code",
      "execution_count": null,
      "metadata": {
        "id": "rpEkDPKHxcPi",
        "outputId": "abd2c2c2-f139-4974-e627-ac343a78070a"
      },
      "outputs": [
        {
          "data": {
            "text/plain": [
              "['b', 'c', 'd']"
            ]
          },
          "execution_count": 30,
          "metadata": {},
          "output_type": "execute_result"
        }
      ],
      "source": [
        "mi_lista[1:]"
      ]
    },
    {
      "cell_type": "code",
      "execution_count": null,
      "metadata": {
        "id": "-V9L_h-axcPi",
        "outputId": "01a31e3f-7fa9-4464-9e4a-4d5f948b129f"
      },
      "outputs": [
        {
          "data": {
            "text/plain": [
              "['a']"
            ]
          },
          "execution_count": 31,
          "metadata": {},
          "output_type": "execute_result"
        }
      ],
      "source": [
        "mi_lista[:1]"
      ]
    },
    {
      "cell_type": "code",
      "execution_count": null,
      "metadata": {
        "id": "cgyk6AfIxcPj"
      },
      "outputs": [],
      "source": [
        "mi_lista[0] = 'NUEVO'"
      ]
    },
    {
      "cell_type": "code",
      "execution_count": null,
      "metadata": {
        "id": "qOc2c4-ExcPj",
        "outputId": "f1d100d4-f9c9-4f1c-dd69-948280c2a343"
      },
      "outputs": [
        {
          "data": {
            "text/plain": [
              "['NUEVO', 'b', 'c', 'd']"
            ]
          },
          "execution_count": 33,
          "metadata": {},
          "output_type": "execute_result"
        }
      ],
      "source": [
        "mi_lista"
      ]
    },
    {
      "cell_type": "code",
      "execution_count": null,
      "metadata": {
        "id": "NFPjzjIkxcPr",
        "outputId": "f7dfd28a-8cd4-4fbb-9c18-918c6e5e0fcb"
      },
      "outputs": [
        {
          "data": {
            "text/plain": [
              "['NUEVO', 'c', 'd']"
            ]
          },
          "execution_count": 34,
          "metadata": {},
          "output_type": "execute_result"
        }
      ],
      "source": [
        "mi_lista.pop(1)\n",
        "mi_lista"
      ]
    },
    {
      "cell_type": "code",
      "execution_count": null,
      "metadata": {
        "id": "zo_9pd1axcP4",
        "outputId": "3b1b0c75-90c3-4435-d99e-7e1d4af96298"
      },
      "outputs": [
        {
          "data": {
            "text/plain": [
              "['NUEVO', 'd']"
            ]
          },
          "execution_count": 35,
          "metadata": {},
          "output_type": "execute_result"
        }
      ],
      "source": [
        "mi_lista.remove('c')\n",
        "mi_lista"
      ]
    },
    {
      "cell_type": "code",
      "execution_count": null,
      "metadata": {
        "id": "qiV_hs0ixcP4"
      },
      "outputs": [],
      "source": [
        "anidado = [1,2,3,[4,5,['objetivo']]]"
      ]
    },
    {
      "cell_type": "code",
      "execution_count": null,
      "metadata": {
        "id": "duiO8E8rxcP5",
        "outputId": "c48ba0f1-4502-45ed-b25a-e614790e1947"
      },
      "outputs": [
        {
          "data": {
            "text/plain": [
              "[4, 5, ['objetivo']]"
            ]
          },
          "execution_count": 38,
          "metadata": {},
          "output_type": "execute_result"
        }
      ],
      "source": [
        "anidado[3]"
      ]
    },
    {
      "cell_type": "code",
      "execution_count": null,
      "metadata": {
        "id": "ZyGP6H2GxcP5",
        "outputId": "dfd48471-9daa-45b9-cff2-ebbc7a505356"
      },
      "outputs": [
        {
          "data": {
            "text/plain": [
              "['objetivo']"
            ]
          },
          "execution_count": 39,
          "metadata": {},
          "output_type": "execute_result"
        }
      ],
      "source": [
        "anidado[3][2]"
      ]
    },
    {
      "cell_type": "code",
      "execution_count": null,
      "metadata": {
        "id": "-6eaXlpRxcP5",
        "outputId": "854c04da-583a-4468-bbff-acd0478c9e76"
      },
      "outputs": [
        {
          "data": {
            "text/plain": [
              "'objetivo'"
            ]
          },
          "execution_count": 40,
          "metadata": {},
          "output_type": "execute_result"
        }
      ],
      "source": [
        "anidado[3][2][0]"
      ]
    },
    {
      "cell_type": "markdown",
      "metadata": {
        "id": "FO9LTjhnxcP5"
      },
      "source": [
        "### Diccionarios"
      ]
    },
    {
      "cell_type": "code",
      "execution_count": null,
      "metadata": {
        "id": "fnFEsHOWxcP5"
      },
      "outputs": [],
      "source": [
        "d = {'clave1':'valor1','clave2':'valor2'}"
      ]
    },
    {
      "cell_type": "code",
      "execution_count": null,
      "metadata": {
        "id": "G2JcV-pUxcP7",
        "outputId": "640a33a1-754a-4d2d-fb84-57f6f6389dc2"
      },
      "outputs": [
        {
          "data": {
            "text/plain": [
              "{'clave1': 'valor1', 'clave2': 'valor2'}"
            ]
          },
          "execution_count": 42,
          "metadata": {},
          "output_type": "execute_result"
        }
      ],
      "source": [
        "d"
      ]
    },
    {
      "cell_type": "code",
      "execution_count": null,
      "metadata": {
        "id": "0gpcbCtixcP7",
        "outputId": "5d7e2ee3-df9b-4555-bc0e-15d0beaf462d"
      },
      "outputs": [
        {
          "data": {
            "text/plain": [
              "'valor1'"
            ]
          },
          "execution_count": 43,
          "metadata": {},
          "output_type": "execute_result"
        }
      ],
      "source": [
        "d['clave1']"
      ]
    },
    {
      "cell_type": "code",
      "execution_count": null,
      "metadata": {
        "id": "3Sir_f2fxcP7"
      },
      "outputs": [],
      "source": [
        "d['clave1'] = 'valor3'"
      ]
    },
    {
      "cell_type": "code",
      "execution_count": null,
      "metadata": {
        "id": "aiXgkPecxcP7",
        "outputId": "4955974e-6cec-4c06-e9f7-b18360adb491"
      },
      "outputs": [
        {
          "data": {
            "text/plain": [
              "{'clave1': 'valor3', 'clave2': 'valor2'}"
            ]
          },
          "execution_count": 45,
          "metadata": {},
          "output_type": "execute_result"
        }
      ],
      "source": [
        "d"
      ]
    },
    {
      "cell_type": "code",
      "execution_count": null,
      "metadata": {
        "id": "FCZk5FRrxcP8"
      },
      "outputs": [],
      "source": [
        "d['clave3']='valor1'"
      ]
    },
    {
      "cell_type": "code",
      "execution_count": null,
      "metadata": {
        "id": "JZ9X4-H5xcP8",
        "outputId": "d9997f9e-bb7c-4c9a-ffb7-8934f53586e9"
      },
      "outputs": [
        {
          "data": {
            "text/plain": [
              "{'clave1': 'valor3', 'clave2': 'valor2', 'clave3': 'valor1'}"
            ]
          },
          "execution_count": 47,
          "metadata": {},
          "output_type": "execute_result"
        }
      ],
      "source": [
        "d"
      ]
    },
    {
      "cell_type": "code",
      "execution_count": null,
      "metadata": {
        "id": "UTZjGLuxxcP9"
      },
      "outputs": [],
      "source": [
        "del d['clave1']"
      ]
    },
    {
      "cell_type": "code",
      "execution_count": null,
      "metadata": {
        "id": "fC4ktqXaxcP9",
        "outputId": "bbe66d38-2f85-49d1-cd09-aad023d81fa7"
      },
      "outputs": [
        {
          "data": {
            "text/plain": [
              "{'clave2': 'valor2', 'clave3': 'valor1'}"
            ]
          },
          "execution_count": 49,
          "metadata": {},
          "output_type": "execute_result"
        }
      ],
      "source": [
        "d"
      ]
    },
    {
      "cell_type": "markdown",
      "metadata": {
        "id": "Ovs2phP5xcP9"
      },
      "source": [
        "### Booleanos"
      ]
    },
    {
      "cell_type": "code",
      "execution_count": null,
      "metadata": {
        "id": "T1KoWGVZxcP-",
        "outputId": "1d08ecc1-7dcd-4aed-f02f-5b19a2947661"
      },
      "outputs": [
        {
          "data": {
            "text/plain": [
              "True"
            ]
          },
          "execution_count": 50,
          "metadata": {},
          "output_type": "execute_result"
        }
      ],
      "source": [
        "True"
      ]
    },
    {
      "cell_type": "code",
      "execution_count": null,
      "metadata": {
        "id": "pfa0GaBOxcP-",
        "outputId": "0f3678c1-533d-4c6f-90fe-959cde7bdbd1"
      },
      "outputs": [
        {
          "data": {
            "text/plain": [
              "False"
            ]
          },
          "execution_count": 51,
          "metadata": {},
          "output_type": "execute_result"
        }
      ],
      "source": [
        "False"
      ]
    },
    {
      "cell_type": "markdown",
      "metadata": {
        "id": "8LWYNwBrxcQB"
      },
      "source": [
        "### Tuplas"
      ]
    },
    {
      "cell_type": "code",
      "execution_count": 2,
      "metadata": {
        "id": "H4qR_UuRxcQB"
      },
      "outputs": [],
      "source": [
        "t = (1,2,3,'a')"
      ]
    },
    {
      "cell_type": "code",
      "execution_count": 3,
      "metadata": {
        "id": "c_PFHzRJxcQB",
        "outputId": "345af20a-acd6-4aa4-9bc9-bccb6d6e3851",
        "colab": {
          "base_uri": "https://localhost:8080/"
        }
      },
      "outputs": [
        {
          "output_type": "execute_result",
          "data": {
            "text/plain": [
              "(1, 2, 3, 'a')"
            ]
          },
          "metadata": {},
          "execution_count": 3
        }
      ],
      "source": [
        "t"
      ]
    },
    {
      "cell_type": "code",
      "execution_count": 4,
      "metadata": {
        "id": "85DidLT3xcQC",
        "outputId": "ef544bd7-4f3d-40b5-9648-2d886d49faf6",
        "colab": {
          "base_uri": "https://localhost:8080/"
        }
      },
      "outputs": [
        {
          "output_type": "execute_result",
          "data": {
            "text/plain": [
              "1"
            ]
          },
          "metadata": {},
          "execution_count": 4
        }
      ],
      "source": [
        "t[0]"
      ]
    },
    {
      "cell_type": "code",
      "execution_count": null,
      "metadata": {
        "id": "8RnX8f26xcQC"
      },
      "outputs": [],
      "source": [
        "t[0] = 'NUEVO' # Error, porque no se puede modificar una tupla"
      ]
    },
    {
      "cell_type": "markdown",
      "source": [
        "## Problemas"
      ],
      "metadata": {
        "id": "hhJNQX9aWRe5"
      }
    },
    {
      "cell_type": "markdown",
      "source": [
        "### **Problema 1: Conversión de tiempo**\n",
        "**Definición**: Convertir los minutos que corre un corredor en un año a meses, semanas, días, horas y minutos.  \n",
        "**Entrada**: Número de minutos que corre en un año.  \n",
        "**Cálculo**:  \n",
        "   - Calcular el tiempo equivalente en meses, semanas, días, horas y minutos.\n",
        "   \n",
        "**Salida**: Mostrar los resultados en formato legible."
      ],
      "metadata": {
        "id": "ikR8bsyrQ8cv"
      }
    },
    {
      "cell_type": "code",
      "source": [],
      "metadata": {
        "id": "tOzG4sMqWEHI"
      },
      "execution_count": null,
      "outputs": []
    },
    {
      "cell_type": "code",
      "source": [],
      "metadata": {
        "id": "ne7AZ4kbRAZP"
      },
      "execution_count": 1,
      "outputs": []
    },
    {
      "cell_type": "markdown",
      "source": [
        "### **Problema 2: Cálculo de áreas**\n",
        "**Definición**: Calcular el área de un círculo, el área del cuadrado inscrito y el área sombreada.  \n",
        "**Entrada**: Radio del círculo.  \n",
        "**Cálculo**:  \\\n",
        "   - Área del círculo: A = π*r^2\n",
        "   - Área del cuadrado inscrito: A = 2r^2\n",
        "   - Área sombreada: Resta entre las áreas del círculo y el cuadrado inscrito.\n",
        "   \n",
        "**Salida**: Mostrar las áreas calculadas."
      ],
      "metadata": {
        "id": "Ta7ysHQWRACX"
      }
    },
    {
      "cell_type": "code",
      "source": [],
      "metadata": {
        "id": "18G8iD09Sg3I"
      },
      "execution_count": null,
      "outputs": []
    },
    {
      "cell_type": "code",
      "source": [],
      "metadata": {
        "id": "P0ICGzDQWFKw"
      },
      "execution_count": null,
      "outputs": []
    },
    {
      "cell_type": "markdown",
      "source": [
        "### **Problema 3: Sueldo y comisiones**\n",
        "**Definición**: Calcular el sueldo total de un vendedor con comisiones.  \n",
        "**Entrada**: Sueldo base y tres montos de ventas.  \n",
        "**Cálculo**:  \n",
        "   - Comisión: \\( 10\\% \\) del total de ventas.  \n",
        "   - Sueldo total: Sumar sueldo base y comisiones.\n",
        "    \n",
        "**Salida**: Mostrar las comisiones y el sueldo total.  "
      ],
      "metadata": {
        "id": "iQ840l-gShIH"
      }
    },
    {
      "cell_type": "code",
      "source": [],
      "metadata": {
        "id": "yFiCx_ojSheH"
      },
      "execution_count": null,
      "outputs": []
    },
    {
      "cell_type": "code",
      "source": [],
      "metadata": {
        "id": "Ex2QuXRMWFxz"
      },
      "execution_count": null,
      "outputs": []
    },
    {
      "cell_type": "markdown",
      "source": [
        "### **Problema 4: Vueltas en una pista**\n",
        "**Definición**: Determinar el tiempo que tarda un atleta en dar dos vueltas a una pista.  \n",
        "**Entrada**: Velocidad del atleta (m/s) y radio de la pista (m).\n",
        "**Cálculo**:  \n",
        "   - Longitud de la pista: L = 2πr.  \n",
        "   - El atleta descansa 1 minuto cada 1000 m.\n",
        "\n",
        "**Salida**: Mostrar el tiempo total en minutos y segundos.  "
      ],
      "metadata": {
        "id": "NnhFytTvSjjo"
      }
    },
    {
      "cell_type": "code",
      "source": [],
      "metadata": {
        "id": "Smc6wCWdTMsX"
      },
      "execution_count": null,
      "outputs": []
    },
    {
      "cell_type": "code",
      "source": [],
      "metadata": {
        "id": "mFvy9KyZWG0L"
      },
      "execution_count": null,
      "outputs": []
    },
    {
      "cell_type": "markdown",
      "source": [
        "### **Problema 5: Distribución de donaciones**\n",
        "Una institución benéfica europea ha recibido tres donaciones en soles, dólares y marcos. La donación será repartida en tres rubros: 51% para la implementación de un centro de salud, 37% para un comedor de niños y el resto para gastos administrativos. Diseñe un algoritmo que determine el monto en euros que le corresponde a cada rubro. Considere que: 1 dólar = 3.52 soles, 1 dólar = 2.08 marcos, 1 dólar = 1.07 euros.  \n"
      ],
      "metadata": {
        "id": "iPiOMYCuTZYg"
      }
    },
    {
      "cell_type": "code",
      "source": [],
      "metadata": {
        "id": "aWFi2GCtVCWQ"
      },
      "execution_count": null,
      "outputs": []
    },
    {
      "cell_type": "code",
      "source": [],
      "metadata": {
        "id": "ASgQGtahWHow"
      },
      "execution_count": null,
      "outputs": []
    },
    {
      "cell_type": "markdown",
      "source": [
        "### Problema 6: Promedio de Notas\n",
        "Un alumno desea saber cuál será su calificación final en el curso de Logica de Programación. Dicha calificación se compone de los siguientes porcentajes:  \n",
        "   - 55% del promedio de sus tres calificaciones parciales.  \n",
        "   - 30% de la calificación del examen final.  \n",
        "   - 15% de la calificación de un trabajo final.\n",
        "\n",
        "Imprimir resultado."
      ],
      "metadata": {
        "id": "e2KWr0DIT5mY"
      }
    },
    {
      "cell_type": "code",
      "source": [],
      "metadata": {
        "id": "9yMNWh8qVDbp"
      },
      "execution_count": null,
      "outputs": []
    },
    {
      "cell_type": "code",
      "source": [],
      "metadata": {
        "id": "p8k7Sz50WIQw"
      },
      "execution_count": null,
      "outputs": []
    },
    {
      "cell_type": "markdown",
      "source": [
        "### **Problema 7: Cálculo del sueldo neto**\n",
        "Un empleado percibe un sueldo mensual, calcular el sueldo neto, si se realizan los siguientes descuentos:  \n",
        "   - Fonavi 1%.  \n",
        "   - Seguro Social 2.5%.  \n",
        "   - Impuesto a la remuneración 1%.\n",
        "\n",
        "Por otro lado, tiene una bonificación del 15% del sueldo libre de descuentos. Determine y muestre el sueldo bruto, los descuentos detallados, el sueldo neto y la bonificación.  \n"
      ],
      "metadata": {
        "id": "Px9HwfN8Pu3H"
      }
    },
    {
      "cell_type": "code",
      "source": [],
      "metadata": {
        "id": "tRS2isHBWJoI"
      },
      "execution_count": null,
      "outputs": []
    },
    {
      "cell_type": "code",
      "source": [],
      "metadata": {
        "id": "D6nqzVojWJbw"
      },
      "execution_count": null,
      "outputs": []
    },
    {
      "cell_type": "markdown",
      "source": [
        "# **Estructura de Control Condicional o Selectiva**\n"
      ],
      "metadata": {
        "id": "iMGvlnRvWN_I"
      }
    },
    {
      "cell_type": "markdown",
      "source": [
        "## Teoria"
      ],
      "metadata": {
        "id": "C5K66W4WWrog"
      }
    },
    {
      "cell_type": "markdown",
      "metadata": {
        "id": "Oq3q90oNxcQC"
      },
      "source": [
        "### Conjuntos"
      ]
    },
    {
      "cell_type": "code",
      "execution_count": null,
      "metadata": {
        "id": "MQKqBwMnxcQC",
        "outputId": "3936ef9a-f0a9-4bca-df7b-5e390f96bbc0"
      },
      "outputs": [
        {
          "data": {
            "text/plain": [
              "{1, 2, 3}"
            ]
          },
          "execution_count": 59,
          "metadata": {},
          "output_type": "execute_result"
        }
      ],
      "source": [
        "{1,2,3}"
      ]
    },
    {
      "cell_type": "code",
      "execution_count": null,
      "metadata": {
        "id": "g7Uw3r6CxcQC",
        "outputId": "8e2fc2ad-e763-464e-a433-d15d9db62492"
      },
      "outputs": [
        {
          "data": {
            "text/plain": [
              "{1, 2, 3}"
            ]
          },
          "execution_count": 60,
          "metadata": {},
          "output_type": "execute_result"
        }
      ],
      "source": [
        "conj = {1,2,3,1,2,1,2,3,3,3,3,2,2,2,1,1,2}\n",
        "conj"
      ]
    },
    {
      "cell_type": "code",
      "execution_count": null,
      "metadata": {
        "id": "7dnCITqMxcQD",
        "outputId": "25789b86-d53e-44f0-9873-b7aaa41f0353"
      },
      "outputs": [
        {
          "data": {
            "text/plain": [
              "{1, 2, 3, 'd'}"
            ]
          },
          "execution_count": 61,
          "metadata": {},
          "output_type": "execute_result"
        }
      ],
      "source": [
        "conj.add('d')\n",
        "conj"
      ]
    },
    {
      "cell_type": "code",
      "execution_count": null,
      "metadata": {
        "id": "Q5gUnkVXxcQD",
        "outputId": "4fdac0c1-a6ed-4203-f8db-a76ee34ba687"
      },
      "outputs": [
        {
          "data": {
            "text/plain": [
              "{1, 3, 'd'}"
            ]
          },
          "execution_count": 62,
          "metadata": {},
          "output_type": "execute_result"
        }
      ],
      "source": [
        "conj.remove(2)\n",
        "conj"
      ]
    },
    {
      "cell_type": "markdown",
      "metadata": {
        "id": "gxouJ8wOxcQD"
      },
      "source": [
        "### Operadores de comparación"
      ]
    },
    {
      "cell_type": "code",
      "execution_count": null,
      "metadata": {
        "id": "g2ScGJv9xcQD",
        "outputId": "953ba3b2-7965-408a-86cd-a85007b978cb"
      },
      "outputs": [
        {
          "data": {
            "text/plain": [
              "False"
            ]
          },
          "execution_count": 63,
          "metadata": {},
          "output_type": "execute_result"
        }
      ],
      "source": [
        "1 > 2"
      ]
    },
    {
      "cell_type": "code",
      "execution_count": null,
      "metadata": {
        "id": "rMSFDmDMxcQE",
        "outputId": "397da9a0-cc40-4f95-8074-0ccf5ce41f0e"
      },
      "outputs": [
        {
          "data": {
            "text/plain": [
              "True"
            ]
          },
          "execution_count": 64,
          "metadata": {},
          "output_type": "execute_result"
        }
      ],
      "source": [
        "1 < 2"
      ]
    },
    {
      "cell_type": "code",
      "execution_count": null,
      "metadata": {
        "id": "zAem0t3zxcQE",
        "outputId": "02323dc4-5c1a-4c19-8cd3-2786989592ca"
      },
      "outputs": [
        {
          "data": {
            "text/plain": [
              "True"
            ]
          },
          "execution_count": 65,
          "metadata": {},
          "output_type": "execute_result"
        }
      ],
      "source": [
        "1 >= 1"
      ]
    },
    {
      "cell_type": "code",
      "execution_count": null,
      "metadata": {
        "id": "KCh-KroLxcQE",
        "outputId": "1f2a1f4a-b5ec-4a5e-d7a0-385061cf8202"
      },
      "outputs": [
        {
          "data": {
            "text/plain": [
              "True"
            ]
          },
          "execution_count": 66,
          "metadata": {},
          "output_type": "execute_result"
        }
      ],
      "source": [
        "1 <= 4"
      ]
    },
    {
      "cell_type": "code",
      "execution_count": null,
      "metadata": {
        "id": "t9a0q5KBxcQE",
        "outputId": "375b78f4-eb3c-41bb-948c-9d3625083f3f"
      },
      "outputs": [
        {
          "data": {
            "text/plain": [
              "True"
            ]
          },
          "execution_count": 67,
          "metadata": {},
          "output_type": "execute_result"
        }
      ],
      "source": [
        "1 == 1"
      ]
    },
    {
      "cell_type": "code",
      "execution_count": null,
      "metadata": {
        "id": "aCRoD9fmxcQE",
        "outputId": "7e4abbd4-48e9-4e76-aa40-4f9bca1219f6"
      },
      "outputs": [
        {
          "data": {
            "text/plain": [
              "True"
            ]
          },
          "execution_count": 68,
          "metadata": {},
          "output_type": "execute_result"
        }
      ],
      "source": [
        "'hola' != 'adios'"
      ]
    },
    {
      "cell_type": "markdown",
      "metadata": {
        "id": "XDnqX1eTxcQF"
      },
      "source": [
        "### Operadores Lógicos"
      ]
    },
    {
      "cell_type": "code",
      "execution_count": null,
      "metadata": {
        "id": "i_DqOPLBxcQF",
        "outputId": "98d83027-a7de-43e8-a7ab-87fb470790d5"
      },
      "outputs": [
        {
          "data": {
            "text/plain": [
              "False"
            ]
          },
          "execution_count": 69,
          "metadata": {},
          "output_type": "execute_result"
        }
      ],
      "source": [
        "(1 > 2) and (2 < 3)"
      ]
    },
    {
      "cell_type": "code",
      "execution_count": null,
      "metadata": {
        "id": "uj6uq998xcQG",
        "outputId": "4ec30c98-ac7e-441c-e93d-a1baaed21db8"
      },
      "outputs": [
        {
          "data": {
            "text/plain": [
              "True"
            ]
          },
          "execution_count": 70,
          "metadata": {},
          "output_type": "execute_result"
        }
      ],
      "source": [
        "(1 > 2) or (2 < 3)"
      ]
    },
    {
      "cell_type": "code",
      "execution_count": null,
      "metadata": {
        "id": "LHkmOJ40xcQG",
        "outputId": "0b8814dc-9d5a-49f3-8aee-8a6e0c947872"
      },
      "outputs": [
        {
          "data": {
            "text/plain": [
              "True"
            ]
          },
          "execution_count": 71,
          "metadata": {},
          "output_type": "execute_result"
        }
      ],
      "source": [
        "(1 == 2) or (2 == 3) or (4 == 4)"
      ]
    },
    {
      "cell_type": "markdown",
      "metadata": {
        "id": "ftOX4XEkxcQG"
      },
      "source": [
        "### Sentencias if,elif, else"
      ]
    },
    {
      "cell_type": "code",
      "execution_count": null,
      "metadata": {
        "id": "xehz4JztxcQH",
        "outputId": "2dfa1012-65aa-4d5a-caec-dfb314a3b6bb"
      },
      "outputs": [
        {
          "name": "stdout",
          "output_type": "stream",
          "text": [
            "!Hola¡\n",
            "UNMSM\n"
          ]
        }
      ],
      "source": [
        "if 1 < 2:\n",
        "    print('!Hola¡')\n",
        "    print('UNMSM')"
      ]
    },
    {
      "cell_type": "code",
      "execution_count": null,
      "metadata": {
        "id": "I2jDz9MzxcQH",
        "outputId": "047b223f-beb8-4f2a-c58f-0ddf1ddcc459"
      },
      "outputs": [
        {
          "name": "stdout",
          "output_type": "stream",
          "text": [
            "primero\n"
          ]
        }
      ],
      "source": [
        "if 1 < 2:\n",
        "    print('primero')\n",
        "else:\n",
        "    print('último')"
      ]
    },
    {
      "cell_type": "code",
      "execution_count": null,
      "metadata": {
        "id": "UW0Ui1A7xcQH",
        "outputId": "f43fc54f-8730-4f1f-f370-778223bbc471"
      },
      "outputs": [
        {
          "name": "stdout",
          "output_type": "stream",
          "text": [
            "último\n"
          ]
        }
      ],
      "source": [
        "if 1 > 2:\n",
        "    print('primero')\n",
        "else:\n",
        "    print('último')"
      ]
    },
    {
      "cell_type": "code",
      "execution_count": null,
      "metadata": {
        "id": "HfeP_OWDxcQH",
        "outputId": "9ba914eb-3bb5-4e12-dc32-2dbf0c9d029a"
      },
      "outputs": [
        {
          "name": "stdout",
          "output_type": "stream",
          "text": [
            "medio\n"
          ]
        }
      ],
      "source": [
        "if 1 == 2:\n",
        "    print('primero')\n",
        "elif 3 == 3:\n",
        "    print('medio')\n",
        "else:\n",
        "    print('último')"
      ]
    },
    {
      "cell_type": "markdown",
      "source": [
        "## Problemas"
      ],
      "metadata": {
        "id": "WBfHxnL6W17I"
      }
    },
    {
      "cell_type": "markdown",
      "source": [
        "### **Problema 1: Par**\n",
        "Deducir si un número es par o impar.  \n"
      ],
      "metadata": {
        "id": "BUBFjH2hW5SQ"
      }
    },
    {
      "cell_type": "code",
      "source": [],
      "metadata": {
        "id": "_Y-XMqNgXC-w"
      },
      "execution_count": null,
      "outputs": []
    },
    {
      "cell_type": "code",
      "source": [],
      "metadata": {
        "id": "O2bI3a8FXDeS"
      },
      "execution_count": null,
      "outputs": []
    },
    {
      "cell_type": "markdown",
      "source": [
        "### **Problema 2: Par, Impar, Nulo**\n",
        "Dado un número entero; determinar si el mismo es par, impar o nulo.  \n"
      ],
      "metadata": {
        "id": "_vV7tg76XD9A"
      }
    },
    {
      "cell_type": "code",
      "source": [],
      "metadata": {
        "id": "bOvEZgf8XL4I"
      },
      "execution_count": null,
      "outputs": []
    },
    {
      "cell_type": "code",
      "source": [],
      "metadata": {
        "id": "HA0iLPD7XLsH"
      },
      "execution_count": null,
      "outputs": []
    },
    {
      "cell_type": "markdown",
      "source": [
        "### **Problema 3: Limites**\n",
        "Realizar la cuenta de los enteros comprendidos entre dos límites, mínimo y máximo.\n"
      ],
      "metadata": {
        "id": "sK7Y9TlFXMLI"
      }
    },
    {
      "cell_type": "code",
      "source": [],
      "metadata": {
        "id": "moyr5QEsXSJC"
      },
      "execution_count": null,
      "outputs": []
    },
    {
      "cell_type": "code",
      "source": [],
      "metadata": {
        "id": "7iXo3vTAXSDg"
      },
      "execution_count": null,
      "outputs": []
    },
    {
      "cell_type": "markdown",
      "source": [
        "### **Problema 4: Divisibilidad**\n",
        "Para una secuencia de n números, indicar aquellos que son divisibles por 3.  \n"
      ],
      "metadata": {
        "id": "vVFPV5XgXSoY"
      }
    },
    {
      "cell_type": "code",
      "source": [],
      "metadata": {
        "id": "bp8Y_WgdXTKY"
      },
      "execution_count": null,
      "outputs": []
    },
    {
      "cell_type": "code",
      "source": [],
      "metadata": {
        "id": "WcEVaYL-XS7Y"
      },
      "execution_count": null,
      "outputs": []
    },
    {
      "cell_type": "markdown",
      "source": [
        "### **Problema 5: Algoritmo de edad**\n",
        "Realizar un algoritmo que calcule la edad de una persona. Preguntar datos personales de la persona, como si conduce, si esta en la universidad y aproximar el resultado.\n"
      ],
      "metadata": {
        "id": "r3VF05g_XTcY"
      }
    },
    {
      "cell_type": "code",
      "source": [],
      "metadata": {
        "id": "9H5O3PKoXoCA"
      },
      "execution_count": null,
      "outputs": []
    },
    {
      "cell_type": "code",
      "source": [],
      "metadata": {
        "id": "cy35bFa1Xn3A"
      },
      "execution_count": null,
      "outputs": []
    },
    {
      "cell_type": "markdown",
      "source": [
        "### **Problema 6: Mayor Valor**\n",
        "Dado 5 números cualquiera, encontrar el mayor valor positivo si es que lo hubiera, de lo contrario dar un mensaje adecuado.  \n"
      ],
      "metadata": {
        "id": "o4xokeDrXoUJ"
      }
    },
    {
      "cell_type": "code",
      "source": [],
      "metadata": {
        "id": "mAjXWHrDXypK"
      },
      "execution_count": null,
      "outputs": []
    },
    {
      "cell_type": "code",
      "source": [],
      "metadata": {
        "id": "OUJa5BJgXyZx"
      },
      "execution_count": null,
      "outputs": []
    },
    {
      "cell_type": "markdown",
      "source": [
        "### **Problema 7: Numero Capicua**\n",
        "Dado un número natural de 3 cifras, determine si es o no es un número capicúa. Se considera que un número es capicúa cuando se lee igual de derecha a izquierda que de izquierda a derecha. Verifique que el número dado tenga sólo 3 cifras, de lo contrario dé un mensaje adecuado.  \n"
      ],
      "metadata": {
        "id": "LHJv0E1XXzEI"
      }
    },
    {
      "cell_type": "code",
      "source": [],
      "metadata": {
        "id": "h1H-BmZfX4vI"
      },
      "execution_count": null,
      "outputs": []
    },
    {
      "cell_type": "code",
      "source": [],
      "metadata": {
        "id": "unOQGIOOX46g"
      },
      "execution_count": null,
      "outputs": []
    },
    {
      "cell_type": "markdown",
      "source": [
        "### **Problema 8: Numeros Romanos**\n",
        "Dado un número natural de no más de 3 cifras, determine su escritura en el formato romano.  \n"
      ],
      "metadata": {
        "id": "qgP7O3Z2X5FB"
      }
    },
    {
      "cell_type": "code",
      "source": [],
      "metadata": {
        "id": "kuIA7TwEX_9Y"
      },
      "execution_count": null,
      "outputs": []
    },
    {
      "cell_type": "code",
      "source": [],
      "metadata": {
        "id": "q_aEcGzhYAL4"
      },
      "execution_count": null,
      "outputs": []
    },
    {
      "cell_type": "markdown",
      "source": [
        "### **Problema 9: Descuentos de sueldo**\n",
        "A un trabajador le descuentan de su sueldo el 10% si su sueldo es menor o igual a 1000, por encima de 1000 hasta 2000 el 5% del adicional, y por encima de 2000 el 3% del adicional. Calcular el descuento y sueldo neto que recibe el trabajador dado un sueldo.\n"
      ],
      "metadata": {
        "id": "6XCY2XvZYAnA"
      }
    },
    {
      "cell_type": "code",
      "source": [],
      "metadata": {
        "id": "Yum7OgkVYFZQ"
      },
      "execution_count": null,
      "outputs": []
    },
    {
      "cell_type": "code",
      "source": [],
      "metadata": {
        "id": "KXF1VcaMYFmQ"
      },
      "execution_count": null,
      "outputs": []
    },
    {
      "cell_type": "markdown",
      "source": [
        "### **Problema 10: Algoritmo de Ordenamiento**\n",
        "Diseñe un algoritmo que lea tres números y los imprima de mayor a menor y de menor a mayor.  \n"
      ],
      "metadata": {
        "id": "KoU5nC_8YGH8"
      }
    },
    {
      "cell_type": "code",
      "source": [],
      "metadata": {
        "id": "Z2fHqmb4YM_h"
      },
      "execution_count": null,
      "outputs": []
    },
    {
      "cell_type": "code",
      "source": [],
      "metadata": {
        "id": "_0hphgsUYM0I"
      },
      "execution_count": null,
      "outputs": []
    },
    {
      "cell_type": "markdown",
      "source": [
        "### **Problema 11: Algoritmo de promociones**\n",
        "Una tienda ha puesto en oferta la venta al por mayor de cierto producto, ofreciendo un descuento del 15% por la compra de más de 3 docenas y 10% en caso contrario. Además, por la compra de más de 3 docenas se obsequia una unidad del producto por cada docena en exceso sobre 3. Diseñe un algoritmo que determine el monto de la compra, el monto del descuento, el monto a pagar y el número de unidades de obsequio por la compra de cierta cantidad de docenas del producto.  \n"
      ],
      "metadata": {
        "id": "U7kze3LKYNXY"
      }
    },
    {
      "cell_type": "code",
      "source": [],
      "metadata": {
        "id": "SaDl8BK8YSfo"
      },
      "execution_count": null,
      "outputs": []
    },
    {
      "cell_type": "code",
      "source": [],
      "metadata": {
        "id": "DKIMVzy0YS95"
      },
      "execution_count": null,
      "outputs": []
    },
    {
      "cell_type": "markdown",
      "source": [
        "### **Problema 12: Triangulos**\n",
        "Dados tres datos enteros positivos, que representan las longitudes de un posible triángulo, determine si los datos corresponden a un triángulo. En caso afirmativo, escriba si el triángulo es equilátero, isósceles o escaleno. Calcule además su área.  \n"
      ],
      "metadata": {
        "id": "OJ2zfOS_YT4b"
      }
    },
    {
      "cell_type": "code",
      "source": [],
      "metadata": {
        "id": "9cUYNlAwYX3o"
      },
      "execution_count": null,
      "outputs": []
    },
    {
      "cell_type": "code",
      "source": [],
      "metadata": {
        "id": "sGB9E6w-YYOZ"
      },
      "execution_count": null,
      "outputs": []
    },
    {
      "cell_type": "markdown",
      "source": [
        "### **Problema 13: Alquiler de autos**\n",
        "Una compañía de alquiler de autos emite la factura de sus clientes teniendo en cuenta la distancia recorrida. Si la distancia no rebasa los 300 km, se cobra una tarifa fija de S/.250. Si la distancia recorrida es mayor a 300 km y hasta 1000 km, se cobra la tarifa fija más el exceso de kilómetros a razón de S/.30 por km. Si la distancia recorrida es mayor a 1000 km, la compañía cobra la tarifa fija más los km recorridos entre 300 y 1000 a razón de S/.30 y S/.20 para las distancias mayores de 1000 km. Calcular el monto que pagará un cliente.  \n",
        "\n"
      ],
      "metadata": {
        "id": "k_ptVBfmYYno"
      }
    },
    {
      "cell_type": "code",
      "source": [],
      "metadata": {
        "id": "J8mM0eEKYmAo"
      },
      "execution_count": null,
      "outputs": []
    },
    {
      "cell_type": "code",
      "source": [],
      "metadata": {
        "id": "zczeeZIMZf15"
      },
      "execution_count": null,
      "outputs": []
    },
    {
      "cell_type": "markdown",
      "source": [
        "### **Problema 14: Cifrado**\n",
        "Una empresa registra el sexo, edad y estado civil de sus empleados a través de un número entero positivo de cuatro cifras de acuerdo a lo siguiente:  \n",
        "   - Primera cifra: Estado civil (1: soltero, 2: casado, 3: viudo, 4: divorciado).  \n",
        "   - Siguientes dos cifras: Edad.  \n",
        "   - Última cifra: Sexo (1: femenino, 2: masculino).  \n",
        "   Diseñe un programa que determine el estado civil, edad y sexo de un empleado conociendo el número que empaqueta dicha información.  \n"
      ],
      "metadata": {
        "id": "awg29RToZgN7"
      }
    },
    {
      "cell_type": "code",
      "source": [],
      "metadata": {
        "id": "1Xz8Np08Z1vg"
      },
      "execution_count": null,
      "outputs": []
    },
    {
      "cell_type": "code",
      "source": [],
      "metadata": {
        "id": "gfISItOrZ1c4"
      },
      "execution_count": null,
      "outputs": []
    },
    {
      "cell_type": "markdown",
      "source": [
        "### **Problema 15: Comisiones**\n",
        "Calcular la comisión sobre las ventas totales de un empleado, considerando:  \n",
        "   - Ventas ≤ 150: Sin comisión.  \n",
        "   - Ventas > 150 y ≤ 400: Comisión del 10%.  \n",
        "   - Ventas > 400: Comisión de S/.50 + 9%.  "
      ],
      "metadata": {
        "id": "yTtWkGvKZ2Ga"
      }
    },
    {
      "cell_type": "code",
      "source": [],
      "metadata": {
        "id": "ByJGBwuqZ8VI"
      },
      "execution_count": null,
      "outputs": []
    },
    {
      "cell_type": "code",
      "source": [],
      "metadata": {
        "id": "hQ_1eWLZZ8fI"
      },
      "execution_count": null,
      "outputs": []
    },
    {
      "cell_type": "markdown",
      "source": [
        "### **Problema 16: Multiplos**\n",
        "Determinar si un número es múltiplo de 2, 3, 5 o de ninguno. Considere que pueden ser múltiplos de más de uno.\n"
      ],
      "metadata": {
        "id": "A0FiuxcUZ8wR"
      }
    },
    {
      "cell_type": "code",
      "source": [],
      "metadata": {
        "id": "tP-GjjbxaGlQ"
      },
      "execution_count": null,
      "outputs": []
    },
    {
      "cell_type": "code",
      "source": [],
      "metadata": {
        "id": "kotEVhXmaGvi"
      },
      "execution_count": null,
      "outputs": []
    },
    {
      "cell_type": "markdown",
      "source": [
        "### **Problema 17: Cuota de colegio**\n",
        "Determinar el importe a pagar por un alumno de un instituto cuya cuota tiene\n",
        "un porcentaje de descuento que se establece en la siguiente tabla y esta en\n",
        "función al colegio de procedencia del alumno; asimismo los importes están\n",
        "exonerados de impuestos.\n",
        "\n",
        "| Colegio      | Instituto A | Instituto B | Instituto C |\n",
        "|--------------|-------------|-------------|-------------|\n",
        "| Nacional     | 50          | 40          | 30          |\n",
        "| Particular   | 25          | 29          | 15          |\n",
        "\n"
      ],
      "metadata": {
        "id": "BKxMm7N9aHJZ"
      }
    },
    {
      "cell_type": "code",
      "source": [],
      "metadata": {
        "id": "Pwg6fwuLalBZ"
      },
      "execution_count": null,
      "outputs": []
    },
    {
      "cell_type": "code",
      "source": [],
      "metadata": {
        "id": "2Jna9QqgalTx"
      },
      "execution_count": null,
      "outputs": []
    },
    {
      "cell_type": "markdown",
      "source": [
        "# **Estructura de Control Iterativa o Repetitiva**\n"
      ],
      "metadata": {
        "id": "frpwSjfqamG_"
      }
    },
    {
      "cell_type": "markdown",
      "source": [
        "## Teoria"
      ],
      "metadata": {
        "id": "Go0WzG3bbHfR"
      }
    },
    {
      "cell_type": "markdown",
      "metadata": {
        "id": "1-nQlJZMxcQH"
      },
      "source": [
        "### Bucles for"
      ]
    },
    {
      "cell_type": "code",
      "execution_count": null,
      "metadata": {
        "id": "2BXUcwInxcQI"
      },
      "outputs": [],
      "source": [
        "seq = [1,2,3,4,5]"
      ]
    },
    {
      "cell_type": "code",
      "execution_count": null,
      "metadata": {
        "id": "u7AA2YSoxcQI",
        "outputId": "cc2d0f05-a951-46d8-f2fb-cd4d24b03686"
      },
      "outputs": [
        {
          "name": "stdout",
          "output_type": "stream",
          "text": [
            "1\n",
            "2\n",
            "3\n",
            "4\n",
            "5\n"
          ]
        }
      ],
      "source": [
        "for item in seq:\n",
        "    print(item)"
      ]
    },
    {
      "cell_type": "code",
      "execution_count": null,
      "metadata": {
        "id": "04h8ShUPxcQI",
        "outputId": "5db392db-28b3-40f7-c99b-0843e9d63341"
      },
      "outputs": [
        {
          "name": "stdout",
          "output_type": "stream",
          "text": [
            "Hola\n",
            "Hola\n",
            "Hola\n",
            "Hola\n",
            "Hola\n"
          ]
        }
      ],
      "source": [
        "for item in seq:\n",
        "    print('Hola')"
      ]
    },
    {
      "cell_type": "code",
      "execution_count": null,
      "metadata": {
        "id": "q2teVWCwxcQI",
        "outputId": "08818e84-f2a7-4205-b646-aa0360fb4a2b"
      },
      "outputs": [
        {
          "name": "stdout",
          "output_type": "stream",
          "text": [
            "2\n",
            "4\n",
            "6\n",
            "8\n",
            "10\n"
          ]
        }
      ],
      "source": [
        "for x in seq:\n",
        "    print(x+x)"
      ]
    },
    {
      "cell_type": "markdown",
      "metadata": {
        "id": "tjMDEEv4xcQI"
      },
      "source": [
        "### Bucles while"
      ]
    },
    {
      "cell_type": "code",
      "execution_count": null,
      "metadata": {
        "id": "bmAZWP-2xcQI",
        "outputId": "24326447-62c5-45ba-c2f4-5c988effa0a2"
      },
      "outputs": [
        {
          "name": "stdout",
          "output_type": "stream",
          "text": [
            "i es: 1\n",
            "i es: 2\n",
            "i es: 3\n",
            "i es: 4\n"
          ]
        }
      ],
      "source": [
        "i = 1\n",
        "while i < 5:\n",
        "    print('i es: {}'.format(i))\n",
        "    i = i+1"
      ]
    },
    {
      "cell_type": "markdown",
      "metadata": {
        "id": "85swXMLDxcQI"
      },
      "source": [
        "### range()"
      ]
    },
    {
      "cell_type": "code",
      "execution_count": null,
      "metadata": {
        "id": "Vec2kU3axcQJ",
        "outputId": "70d2cc60-ffac-4bf7-a74d-d02e4380ac07"
      },
      "outputs": [
        {
          "data": {
            "text/plain": [
              "range(0, 5)"
            ]
          },
          "execution_count": 83,
          "metadata": {},
          "output_type": "execute_result"
        }
      ],
      "source": [
        "range(5)"
      ]
    },
    {
      "cell_type": "code",
      "execution_count": null,
      "metadata": {
        "id": "a8yNKPM0xcQJ",
        "outputId": "720e2c75-5309-4dad-c7ca-b28af435e5c2"
      },
      "outputs": [
        {
          "name": "stdout",
          "output_type": "stream",
          "text": [
            "0\n",
            "1\n",
            "2\n",
            "3\n",
            "4\n"
          ]
        }
      ],
      "source": [
        "for i in range(5):\n",
        "    print(i)"
      ]
    },
    {
      "cell_type": "code",
      "execution_count": null,
      "metadata": {
        "id": "nUuxT1M7xcQJ",
        "outputId": "e183d60d-2316-4999-8fc3-d1580b6d4c7e"
      },
      "outputs": [
        {
          "data": {
            "text/plain": [
              "[3, 4]"
            ]
          },
          "execution_count": 85,
          "metadata": {},
          "output_type": "execute_result"
        }
      ],
      "source": [
        "list(range(3,5))"
      ]
    },
    {
      "cell_type": "code",
      "execution_count": null,
      "metadata": {
        "id": "7Z4uLvIrxcQJ",
        "outputId": "f0f9de53-d426-47a7-8da7-da9531e73912"
      },
      "outputs": [
        {
          "data": {
            "text/plain": [
              "[3, 7, 11, 15, 19, 23]"
            ]
          },
          "execution_count": 86,
          "metadata": {},
          "output_type": "execute_result"
        }
      ],
      "source": [
        "list(range(3,25,4))"
      ]
    },
    {
      "cell_type": "markdown",
      "metadata": {
        "id": "_FYms1-oxcQJ"
      },
      "source": [
        "### Listas por comprensión"
      ]
    },
    {
      "cell_type": "code",
      "execution_count": null,
      "metadata": {
        "id": "q0Vo1AFmxcQJ"
      },
      "outputs": [],
      "source": [
        "x = [1,2,3,4]"
      ]
    },
    {
      "cell_type": "code",
      "execution_count": null,
      "metadata": {
        "id": "LHd9kbFmxcQJ",
        "outputId": "75ad5b3a-9687-41ba-efe4-d77a61395dc7"
      },
      "outputs": [
        {
          "name": "stdout",
          "output_type": "stream",
          "text": [
            "[1, 4, 9, 16]\n"
          ]
        }
      ],
      "source": [
        "salida = []\n",
        "for item in x:\n",
        "    salida.append(item**2)\n",
        "print(salida)"
      ]
    },
    {
      "cell_type": "code",
      "execution_count": null,
      "metadata": {
        "id": "cjWgvcjuxcQK",
        "outputId": "ccb3401c-04e5-469f-b809-af2489e81e0c"
      },
      "outputs": [
        {
          "name": "stdout",
          "output_type": "stream",
          "text": [
            "[1, 4, 9, 16]\n"
          ]
        }
      ],
      "source": [
        "salida2 = [item**2 for item in x]\n",
        "print(salida2)"
      ]
    },
    {
      "cell_type": "markdown",
      "source": [
        "## Problemas"
      ],
      "metadata": {
        "id": "XIxCjk4CbBw4"
      }
    },
    {
      "cell_type": "markdown",
      "source": [
        "### **Problema 1: Factorial**\n",
        "Calcular el factorial de un número.  \n"
      ],
      "metadata": {
        "id": "FcFd7_1DbS45"
      }
    },
    {
      "cell_type": "code",
      "source": [],
      "metadata": {
        "id": "z-bvzJwobZ-A"
      },
      "execution_count": null,
      "outputs": []
    },
    {
      "cell_type": "code",
      "source": [],
      "metadata": {
        "id": "2plRNNW1baLI"
      },
      "execution_count": null,
      "outputs": []
    },
    {
      "cell_type": "markdown",
      "source": [
        "### **Problema 2: Suma**\n",
        "Calcular la suma de los números del 1 al 1000.\n"
      ],
      "metadata": {
        "id": "qU1hisHLbalg"
      }
    },
    {
      "cell_type": "code",
      "source": [],
      "metadata": {
        "id": "tWyUsQCqbhYh"
      },
      "execution_count": null,
      "outputs": []
    },
    {
      "cell_type": "code",
      "source": [],
      "metadata": {
        "id": "NTxEVbmvbhtj"
      },
      "execution_count": null,
      "outputs": []
    },
    {
      "cell_type": "markdown",
      "source": [
        "### **Problema 3: Multiplicacion**\n",
        "Escribir un algoritmo que calcule el producto de los primeros *N* números naturales.\n"
      ],
      "metadata": {
        "id": "0_XcYKLPbiBh"
      }
    },
    {
      "cell_type": "code",
      "source": [],
      "metadata": {
        "id": "dTBbnhItbum5"
      },
      "execution_count": null,
      "outputs": []
    },
    {
      "cell_type": "code",
      "source": [],
      "metadata": {
        "id": "I-d9i7W1buxR"
      },
      "execution_count": null,
      "outputs": []
    },
    {
      "cell_type": "markdown",
      "source": [
        "### **Problema 4: Problemas de series**\n",
        "Resolver las siguientes series:  \n",
        "   - ( S = 1 + 2 - 3 + 4 - 5 + 6 - 7 + ... + N\\) (donde *N* es par).  \n",
        "   - ( S = 1 + X + X^2/2! + X^3/3! + ... + X^n/N! ).  \n",
        "   - ( S = 1, 1, 2, 3, 5, 8, 13, ... \\) (primeros n términos de Fibonacci)."
      ],
      "metadata": {
        "id": "07e5F0TnbyVR"
      }
    },
    {
      "cell_type": "code",
      "source": [],
      "metadata": {
        "id": "VPtBMKP6cEcx"
      },
      "execution_count": null,
      "outputs": []
    },
    {
      "cell_type": "code",
      "source": [],
      "metadata": {
        "id": "r60Ea0gCcET5"
      },
      "execution_count": null,
      "outputs": []
    },
    {
      "cell_type": "markdown",
      "source": [
        "### **Problema 5: Interes**\n",
        "Si un ama de casa pone su dinero en el banco a plazo fijo durante 18 años.\n",
        "Para lo cual ingresa un determinado monto de dinero; ella sabe que por cada\n",
        "año gana 1.22% del monto total de dinero que tiene depositado en ese\n",
        "momento. Ella desearía saber después de 18 años cuánto de dinero tendrá\n",
        "acumulado.\n"
      ],
      "metadata": {
        "id": "vC4qgnkUcEua"
      }
    },
    {
      "cell_type": "code",
      "source": [],
      "metadata": {
        "id": "ET92Tk2IcNnY"
      },
      "execution_count": null,
      "outputs": []
    },
    {
      "cell_type": "code",
      "source": [],
      "metadata": {
        "id": "XHAHO_KWcNeh"
      },
      "execution_count": null,
      "outputs": []
    },
    {
      "cell_type": "markdown",
      "source": [
        "### **Problema 6:**\n",
        "Generalizando el problema anterior desearíamos tener un programa en el\n",
        "banco que permitiera ofrecer el servicio de calcular el monto ganado en X\n",
        "años de monto depositado D para todos los clientes.  \n"
      ],
      "metadata": {
        "id": "N_r5a9arcN45"
      }
    },
    {
      "cell_type": "code",
      "source": [],
      "metadata": {
        "id": "Kcj-oWVLceOw"
      },
      "execution_count": null,
      "outputs": []
    },
    {
      "cell_type": "code",
      "source": [],
      "metadata": {
        "id": "UJG6yi7RceZA"
      },
      "execution_count": null,
      "outputs": []
    },
    {
      "cell_type": "markdown",
      "source": [
        "### **Problema 7: Comisiones de sus Ventas**\n",
        "Una compañía de seguros tiene contratados a N vendedores. Cada uno\n",
        "hace tres ventas a la semana. Su política de pago es que un vendedor recibe\n",
        "un sueldo base, y un 10% extra por comisiones de sus ventas. El gerente\n",
        "de su compañía desea saber cuánto dinero obtendrá en la semana cada\n",
        "vendedor por concepto de comisiones por las tres ventas realizadas, y\n",
        "cuanto tomando en cuenta su sueldo base y sus comisiones."
      ],
      "metadata": {
        "id": "mfVyls7jceuJ"
      }
    },
    {
      "cell_type": "code",
      "source": [],
      "metadata": {
        "id": "zQ_uk89_cqxB"
      },
      "execution_count": null,
      "outputs": []
    },
    {
      "cell_type": "code",
      "source": [],
      "metadata": {
        "id": "6QaoqNOlcqnR"
      },
      "execution_count": null,
      "outputs": []
    },
    {
      "cell_type": "markdown",
      "source": [
        "### **Problema 8: Salarios**\n",
        "En una empresa se requiere calcular el salario semanal de cada uno de los  \n",
        "N obreros que laboran en ella. El salario se obtiene de la siguiente. Forma:\n",
        "si el obrero trabaja 40 horas o menos se le paga $20 por hora si trabaja más\n",
        "de 40 horas se le paga \\$20 por cada una de las primeras 40 horas y \\$25 por\n",
        "cada hora extra."
      ],
      "metadata": {
        "id": "NkDOvTTicrDJ"
      }
    },
    {
      "cell_type": "code",
      "source": [],
      "metadata": {
        "id": "7LziIlmldA65"
      },
      "execution_count": null,
      "outputs": []
    },
    {
      "cell_type": "code",
      "source": [],
      "metadata": {
        "id": "6RoZlEhedAyZ"
      },
      "execution_count": null,
      "outputs": []
    },
    {
      "cell_type": "markdown",
      "source": [
        "### **Problema 9: Autos**\n",
        "El Dpto. de Seguridad Pública y Tránsito del Distrito. desea saber, de los N\n",
        "autos que entran a la ciudad de Lima, cuantos entran con calcomanía de\n",
        "cada color. Conociendo el último dígito de la placa de cada automóvil se\n",
        "puede determinar el color de la calcomanía utilizando la siguiente relación:\n",
        "\n",
        "|    Digito   |    Color    |\n",
        "|-------------|-------------|\n",
        "|   1 - 2     | Amarilla    |\n",
        "|   3 - 4     | Rosa        |\n",
        "|   5 - 6     | Roja        |\n",
        "|   7 - 8     | Verde       |\n",
        "|   9 - 0     | Azul        |\n"
      ],
      "metadata": {
        "id": "9OaCybcRdBP6"
      }
    },
    {
      "cell_type": "code",
      "source": [],
      "metadata": {
        "id": "rfupaUWud2IJ"
      },
      "execution_count": null,
      "outputs": []
    },
    {
      "cell_type": "code",
      "source": [],
      "metadata": {
        "id": "6TzGqA55d1-6"
      },
      "execution_count": null,
      "outputs": []
    },
    {
      "cell_type": "markdown",
      "source": [
        "# Extras"
      ],
      "metadata": {
        "id": "W4i5q5y6bECB"
      }
    },
    {
      "cell_type": "markdown",
      "metadata": {
        "id": "EdZKXXmwxcQK"
      },
      "source": [
        "## funciones"
      ]
    },
    {
      "cell_type": "code",
      "execution_count": null,
      "metadata": {
        "id": "EQknTXSfxcQK"
      },
      "outputs": [],
      "source": [
        "def mi_func(param1='Hola'):\n",
        "    \"\"\"\n",
        "    Docstring goes here.\n",
        "    \"\"\"\n",
        "    print(param1)"
      ]
    },
    {
      "cell_type": "code",
      "execution_count": null,
      "metadata": {
        "id": "jz1FqUvwxcQL",
        "outputId": "26f75808-923f-41df-93f1-3a9fd239b2e0"
      },
      "outputs": [
        {
          "data": {
            "text/plain": [
              "<function __main__.mi_func(param1='Hola')>"
            ]
          },
          "execution_count": 91,
          "metadata": {},
          "output_type": "execute_result"
        }
      ],
      "source": [
        "mi_func"
      ]
    },
    {
      "cell_type": "code",
      "execution_count": null,
      "metadata": {
        "id": "ER5CCeRtxcQL",
        "outputId": "ce3db675-621a-4cbc-cbac-9b0853ce60d7"
      },
      "outputs": [
        {
          "name": "stdout",
          "output_type": "stream",
          "text": [
            "Hola\n"
          ]
        }
      ],
      "source": [
        "mi_func()"
      ]
    },
    {
      "cell_type": "code",
      "execution_count": null,
      "metadata": {
        "id": "gP_syUi6xcQL",
        "outputId": "d9bef610-d739-4b67-86d9-901f9aaa8584"
      },
      "outputs": [
        {
          "name": "stdout",
          "output_type": "stream",
          "text": [
            "Adios\n"
          ]
        }
      ],
      "source": [
        "mi_func('Adios')"
      ]
    },
    {
      "cell_type": "code",
      "execution_count": null,
      "metadata": {
        "id": "le-WmF7sxcQL",
        "outputId": "98b621b6-2e33-41fb-ebd0-4041b457608e"
      },
      "outputs": [
        {
          "name": "stdout",
          "output_type": "stream",
          "text": [
            "Hasta Luego\n"
          ]
        }
      ],
      "source": [
        "mi_func(param1='Hasta Luego')"
      ]
    },
    {
      "cell_type": "code",
      "execution_count": null,
      "metadata": {
        "id": "hdrUD85ixcQL"
      },
      "outputs": [],
      "source": [
        "def cuadrado(x):\n",
        "    return x**2"
      ]
    },
    {
      "cell_type": "code",
      "execution_count": null,
      "metadata": {
        "id": "MVu2LDGjxcQM"
      },
      "outputs": [],
      "source": [
        "salida = cuadrado(3)"
      ]
    },
    {
      "cell_type": "code",
      "execution_count": null,
      "metadata": {
        "scrolled": true,
        "id": "YiaqxgrHxcQM",
        "outputId": "7bc55c0c-f109-409d-a669-45ceaac927be"
      },
      "outputs": [
        {
          "name": "stdout",
          "output_type": "stream",
          "text": [
            "9\n"
          ]
        }
      ],
      "source": [
        "print(salida)"
      ]
    },
    {
      "cell_type": "code",
      "execution_count": null,
      "metadata": {
        "id": "H4exYrUwxcQM"
      },
      "outputs": [],
      "source": [
        "def ent_mod(a,b):\n",
        "    e = a//b\n",
        "    r = a%b\n",
        "    return e,r"
      ]
    },
    {
      "cell_type": "code",
      "execution_count": null,
      "metadata": {
        "id": "KwS8NvfBxcQM",
        "outputId": "e795f840-355b-4b88-cb4b-82a6cefd069f"
      },
      "outputs": [
        {
          "name": "stdout",
          "output_type": "stream",
          "text": [
            "la división entera es 7\n",
            "el módulo es 1\n"
          ]
        }
      ],
      "source": [
        "m,n = ent_mod(15,2)\n",
        "print(\"la división entera es\",m)\n",
        "print(\"el módulo es\",n)"
      ]
    },
    {
      "cell_type": "markdown",
      "metadata": {
        "id": "I0gt4CRZxcQM"
      },
      "source": [
        "## expresiones lambda"
      ]
    },
    {
      "cell_type": "code",
      "execution_count": null,
      "metadata": {
        "id": "FFGjfYs5xcQM"
      },
      "outputs": [],
      "source": [
        "def por2(var):\n",
        "    return var*2"
      ]
    },
    {
      "cell_type": "code",
      "execution_count": null,
      "metadata": {
        "id": "RP7smTwqxcQM",
        "outputId": "7ef59ee8-d3b3-410d-861f-b1284b954626"
      },
      "outputs": [
        {
          "data": {
            "text/plain": [
              "4"
            ]
          },
          "execution_count": 102,
          "metadata": {},
          "output_type": "execute_result"
        }
      ],
      "source": [
        "por2(2)"
      ]
    },
    {
      "cell_type": "code",
      "execution_count": null,
      "metadata": {
        "id": "ewb34-2BxcQN",
        "outputId": "88affa28-303b-4335-8e06-ef5b47f0359d"
      },
      "outputs": [
        {
          "data": {
            "text/plain": [
              "<function __main__.<lambda>(var)>"
            ]
          },
          "execution_count": 103,
          "metadata": {},
          "output_type": "execute_result"
        }
      ],
      "source": [
        "lambda var: var*2"
      ]
    },
    {
      "cell_type": "markdown",
      "metadata": {
        "id": "Za7E94pLxcQN"
      },
      "source": [
        "## map y filter"
      ]
    },
    {
      "cell_type": "code",
      "execution_count": null,
      "metadata": {
        "id": "98nxBboZxcQN"
      },
      "outputs": [],
      "source": [
        "seq = [1,2,3,4,5]"
      ]
    },
    {
      "cell_type": "code",
      "execution_count": null,
      "metadata": {
        "id": "piZW3cC2xcQN",
        "outputId": "6cbd49a1-22ed-4321-af0f-2bd7189e9115"
      },
      "outputs": [
        {
          "data": {
            "text/plain": [
              "<map at 0x24d25c9a670>"
            ]
          },
          "execution_count": 105,
          "metadata": {},
          "output_type": "execute_result"
        }
      ],
      "source": [
        "map(por2,seq)"
      ]
    },
    {
      "cell_type": "code",
      "execution_count": null,
      "metadata": {
        "id": "uc_kq18hxcQN",
        "outputId": "b0d4b1ef-070e-4f6d-b162-977d08f927cd"
      },
      "outputs": [
        {
          "data": {
            "text/plain": [
              "[2, 4, 6, 8, 10]"
            ]
          },
          "execution_count": 106,
          "metadata": {},
          "output_type": "execute_result"
        }
      ],
      "source": [
        "list(map(por2,seq))"
      ]
    },
    {
      "cell_type": "code",
      "execution_count": null,
      "metadata": {
        "id": "R2BY5AzUxcQN",
        "outputId": "5cdda663-427d-4e90-c697-fada40386dd8"
      },
      "outputs": [
        {
          "data": {
            "text/plain": [
              "[2, 4, 6, 8, 10]"
            ]
          },
          "execution_count": 107,
          "metadata": {},
          "output_type": "execute_result"
        }
      ],
      "source": [
        "list(map(lambda var: var*2,seq))"
      ]
    },
    {
      "cell_type": "code",
      "execution_count": null,
      "metadata": {
        "id": "42cjk-n4xcQN",
        "outputId": "f127e376-ab86-4af2-852f-1332f278ac38"
      },
      "outputs": [
        {
          "data": {
            "text/plain": [
              "<filter at 0x24d25c536a0>"
            ]
          },
          "execution_count": 108,
          "metadata": {},
          "output_type": "execute_result"
        }
      ],
      "source": [
        "filter(lambda item: item%2 != 0,seq)"
      ]
    },
    {
      "cell_type": "code",
      "execution_count": null,
      "metadata": {
        "id": "Qa79qurIxcQN",
        "outputId": "bd11d501-62a6-4814-c316-b4fd8fb71217"
      },
      "outputs": [
        {
          "data": {
            "text/plain": [
              "[1, 3, 5]"
            ]
          },
          "execution_count": 110,
          "metadata": {},
          "output_type": "execute_result"
        }
      ],
      "source": [
        "list(filter(lambda item: item%2 != 0,seq))"
      ]
    },
    {
      "cell_type": "markdown",
      "metadata": {
        "id": "-dKBdcqMxcQO"
      },
      "source": [
        "## métodos"
      ]
    },
    {
      "cell_type": "code",
      "execution_count": null,
      "metadata": {
        "id": "PwxfBiBoxcQO"
      },
      "outputs": [],
      "source": [
        "st = 'Hola mi nombre es Sam'"
      ]
    },
    {
      "cell_type": "code",
      "execution_count": null,
      "metadata": {
        "id": "hDDKPEUMxcQO",
        "outputId": "66e8da6c-3de9-4543-d0e8-5b1914c63452"
      },
      "outputs": [
        {
          "data": {
            "text/plain": [
              "'hola mi nombre es sam'"
            ]
          },
          "execution_count": 112,
          "metadata": {},
          "output_type": "execute_result"
        }
      ],
      "source": [
        "st.lower()"
      ]
    },
    {
      "cell_type": "code",
      "execution_count": null,
      "metadata": {
        "id": "5aOCTBkXxcQO",
        "outputId": "0e125e34-803a-4691-8736-fc9d288a54bb"
      },
      "outputs": [
        {
          "data": {
            "text/plain": [
              "'HOLA MI NOMBRE ES SAM'"
            ]
          },
          "execution_count": 113,
          "metadata": {},
          "output_type": "execute_result"
        }
      ],
      "source": [
        "st.upper()"
      ]
    },
    {
      "cell_type": "code",
      "execution_count": null,
      "metadata": {
        "id": "kxCOyHLwxcQO",
        "outputId": "21da9b3a-47cc-4ce3-912e-231539c10954"
      },
      "outputs": [
        {
          "data": {
            "text/plain": [
              "['Hola', 'mi', 'nombre', 'es', 'Sam']"
            ]
          },
          "execution_count": 114,
          "metadata": {},
          "output_type": "execute_result"
        }
      ],
      "source": [
        "st.split()"
      ]
    },
    {
      "cell_type": "code",
      "execution_count": null,
      "metadata": {
        "id": "2wH8NwJbxcQO"
      },
      "outputs": [],
      "source": [
        "tweet = '¡Arriba Perú! #Deportes'"
      ]
    },
    {
      "cell_type": "code",
      "execution_count": null,
      "metadata": {
        "id": "kLwrYBgCxcQP",
        "outputId": "79fe94fc-10ae-44ac-a7c2-4a935470fd79"
      },
      "outputs": [
        {
          "data": {
            "text/plain": [
              "['¡Arriba Perú! ', 'Deportes']"
            ]
          },
          "execution_count": 116,
          "metadata": {},
          "output_type": "execute_result"
        }
      ],
      "source": [
        "tweet.split('#')"
      ]
    },
    {
      "cell_type": "code",
      "execution_count": null,
      "metadata": {
        "id": "RO9iOW5TxcQP",
        "outputId": "23da7b44-40d8-4ca5-f73a-e83cb341e6e1"
      },
      "outputs": [
        {
          "data": {
            "text/plain": [
              "'Deportes'"
            ]
          },
          "execution_count": 117,
          "metadata": {},
          "output_type": "execute_result"
        }
      ],
      "source": [
        "tweet.split('#')[1]"
      ]
    },
    {
      "cell_type": "code",
      "execution_count": null,
      "metadata": {
        "id": "gDFj138RxcQP",
        "outputId": "ca39e511-8f48-4ab8-fad8-35fdcae2a8e5"
      },
      "outputs": [
        {
          "data": {
            "text/plain": [
              "{'clave2': 'valor2', 'clave3': 'valor1'}"
            ]
          },
          "execution_count": 118,
          "metadata": {},
          "output_type": "execute_result"
        }
      ],
      "source": [
        "d"
      ]
    },
    {
      "cell_type": "code",
      "execution_count": null,
      "metadata": {
        "id": "Unz-zvx4xcQP",
        "outputId": "17660437-ef1a-4f86-f354-cc1341f24c35"
      },
      "outputs": [
        {
          "data": {
            "text/plain": [
              "dict_keys(['clave2', 'clave3'])"
            ]
          },
          "execution_count": 119,
          "metadata": {},
          "output_type": "execute_result"
        }
      ],
      "source": [
        "d.keys()"
      ]
    },
    {
      "cell_type": "code",
      "execution_count": null,
      "metadata": {
        "id": "6weHmZhBxcQP",
        "outputId": "ff898124-31e5-4df8-b17a-c19e2a2989b4"
      },
      "outputs": [
        {
          "data": {
            "text/plain": [
              "dict_items([('clave2', 'valor2'), ('clave3', 'valor1')])"
            ]
          },
          "execution_count": 120,
          "metadata": {},
          "output_type": "execute_result"
        }
      ],
      "source": [
        "d.items()"
      ]
    },
    {
      "cell_type": "code",
      "execution_count": null,
      "metadata": {
        "id": "90bJMr9kxcQP"
      },
      "outputs": [],
      "source": [
        "lst = [1,2,3]"
      ]
    },
    {
      "cell_type": "code",
      "execution_count": null,
      "metadata": {
        "id": "UYBctSonxcQQ",
        "outputId": "10ff7d53-066e-434b-889a-18f9a95f9b45"
      },
      "outputs": [
        {
          "data": {
            "text/plain": [
              "3"
            ]
          },
          "execution_count": 122,
          "metadata": {},
          "output_type": "execute_result"
        }
      ],
      "source": [
        "lst.pop()"
      ]
    },
    {
      "cell_type": "code",
      "execution_count": null,
      "metadata": {
        "id": "TGv2VF1NxcQQ",
        "outputId": "2d2822d7-4f4b-44ed-e648-cd1a789a4063"
      },
      "outputs": [
        {
          "data": {
            "text/plain": [
              "[1, 2]"
            ]
          },
          "execution_count": 123,
          "metadata": {},
          "output_type": "execute_result"
        }
      ],
      "source": [
        "lst"
      ]
    },
    {
      "cell_type": "code",
      "execution_count": null,
      "metadata": {
        "id": "lKQTE1YCxcQQ",
        "outputId": "190a0537-7b24-4241-e1ff-4cd101d42cf7"
      },
      "outputs": [
        {
          "data": {
            "text/plain": [
              "False"
            ]
          },
          "execution_count": 124,
          "metadata": {},
          "output_type": "execute_result"
        }
      ],
      "source": [
        "'x' in [1,2,3]"
      ]
    },
    {
      "cell_type": "code",
      "execution_count": null,
      "metadata": {
        "id": "Dju684qWxcQQ",
        "outputId": "9e2c5725-3a4d-4195-903d-9b6bd20a4bdb"
      },
      "outputs": [
        {
          "data": {
            "text/plain": [
              "True"
            ]
          },
          "execution_count": 125,
          "metadata": {},
          "output_type": "execute_result"
        }
      ],
      "source": [
        "'x' in ['x','y','z']"
      ]
    },
    {
      "cell_type": "markdown",
      "metadata": {
        "id": "V8lRzMsDxcQR"
      },
      "source": [
        "## Arreglos"
      ]
    },
    {
      "cell_type": "code",
      "execution_count": null,
      "metadata": {
        "id": "nTCPCAZ8xcQR"
      },
      "outputs": [],
      "source": [
        "import numpy as np"
      ]
    },
    {
      "cell_type": "markdown",
      "metadata": {
        "id": "n0SkFKMyxcQR"
      },
      "source": [
        "De 1 dimensión"
      ]
    },
    {
      "cell_type": "code",
      "execution_count": null,
      "metadata": {
        "id": "Iieml1UPxcQS"
      },
      "outputs": [],
      "source": [
        "a = np.array([0,1,2,3,4,5])"
      ]
    },
    {
      "cell_type": "code",
      "execution_count": null,
      "metadata": {
        "id": "7zC97jK_xcQS",
        "outputId": "87389e2e-c1e6-4b79-e3bf-326248a8da02"
      },
      "outputs": [
        {
          "data": {
            "text/plain": [
              "array([0, 1, 2, 3, 4, 5])"
            ]
          },
          "execution_count": 128,
          "metadata": {},
          "output_type": "execute_result"
        }
      ],
      "source": [
        "a"
      ]
    },
    {
      "cell_type": "code",
      "execution_count": null,
      "metadata": {
        "id": "i36JEFcXxcQS",
        "outputId": "d5ff23c0-6c8a-48d0-dada-e2222bad459c"
      },
      "outputs": [
        {
          "data": {
            "text/plain": [
              "1"
            ]
          },
          "execution_count": 129,
          "metadata": {},
          "output_type": "execute_result"
        }
      ],
      "source": [
        "a.ndim"
      ]
    },
    {
      "cell_type": "code",
      "execution_count": null,
      "metadata": {
        "id": "qIHPNy8WxcQS",
        "outputId": "a82ad132-a329-4f87-b786-491ee2746170"
      },
      "outputs": [
        {
          "data": {
            "text/plain": [
              "(6,)"
            ]
          },
          "execution_count": 131,
          "metadata": {},
          "output_type": "execute_result"
        }
      ],
      "source": [
        "a.shape"
      ]
    },
    {
      "cell_type": "code",
      "execution_count": null,
      "metadata": {
        "id": "XMuuEjtRxcQT",
        "outputId": "2ee07418-2cab-44bb-989c-de0e4218c937"
      },
      "outputs": [
        {
          "data": {
            "text/plain": [
              "6"
            ]
          },
          "execution_count": 132,
          "metadata": {},
          "output_type": "execute_result"
        }
      ],
      "source": [
        "len(a)"
      ]
    },
    {
      "cell_type": "markdown",
      "metadata": {
        "id": "RixxsHerxcQT"
      },
      "source": [
        "De 2 y 3 dimensiones"
      ]
    },
    {
      "cell_type": "code",
      "execution_count": null,
      "metadata": {
        "id": "0R0Lu4nwxcQT",
        "outputId": "bebebe18-9cb6-435c-e77c-3bd12227c6f9"
      },
      "outputs": [
        {
          "data": {
            "text/plain": [
              "array([[3, 2, 4],\n",
              "       [8, 5, 4]])"
            ]
          },
          "execution_count": 134,
          "metadata": {},
          "output_type": "execute_result"
        }
      ],
      "source": [
        "b = np.array([[3,2,4],[8,5,4]])\n",
        "b"
      ]
    },
    {
      "cell_type": "code",
      "execution_count": null,
      "metadata": {
        "id": "niSHehxWxcQT",
        "outputId": "e0ccc9c3-a75b-4968-dc7b-7405cce7e2a3"
      },
      "outputs": [
        {
          "data": {
            "text/plain": [
              "(2, 3)"
            ]
          },
          "execution_count": 135,
          "metadata": {},
          "output_type": "execute_result"
        }
      ],
      "source": [
        "b.shape"
      ]
    },
    {
      "cell_type": "code",
      "execution_count": null,
      "metadata": {
        "id": "aA_LJuSmxcQU",
        "outputId": "66c3db4b-45a7-4a5f-f4c5-07a92dc8554c"
      },
      "outputs": [
        {
          "data": {
            "text/plain": [
              "2"
            ]
          },
          "execution_count": 136,
          "metadata": {},
          "output_type": "execute_result"
        }
      ],
      "source": [
        "len(b)"
      ]
    },
    {
      "cell_type": "code",
      "execution_count": null,
      "metadata": {
        "id": "lo3-AK3nxcQV"
      },
      "outputs": [],
      "source": [
        "c = np.array([[[3,2,5],[5,6,7]],[[9,8,5],[6,2,1]]])"
      ]
    },
    {
      "cell_type": "code",
      "execution_count": null,
      "metadata": {
        "id": "sCg6pQDnxcQV",
        "outputId": "42f43137-b3d3-4cc7-ab1c-ca80d2040951"
      },
      "outputs": [
        {
          "data": {
            "text/plain": [
              "array([[[3, 2, 5],\n",
              "        [5, 6, 7]],\n",
              "\n",
              "       [[9, 8, 5],\n",
              "        [6, 2, 1]]])"
            ]
          },
          "execution_count": 140,
          "metadata": {},
          "output_type": "execute_result"
        }
      ],
      "source": [
        "c"
      ]
    },
    {
      "cell_type": "code",
      "execution_count": null,
      "metadata": {
        "id": "RFWgIiApxcQW",
        "outputId": "4cbf3a3a-8fd3-41f8-ee2f-e8075edc0b9f"
      },
      "outputs": [
        {
          "data": {
            "text/plain": [
              "(2, 2, 3)"
            ]
          },
          "execution_count": 141,
          "metadata": {},
          "output_type": "execute_result"
        }
      ],
      "source": [
        "c.shape"
      ]
    },
    {
      "cell_type": "code",
      "execution_count": null,
      "metadata": {
        "id": "ZKYuJ-A8xcQW"
      },
      "outputs": [],
      "source": [
        "ceros = np.zeros((3,5))"
      ]
    },
    {
      "cell_type": "code",
      "execution_count": null,
      "metadata": {
        "id": "ARtP2jFwxcQW",
        "outputId": "42a44b41-e44b-44d3-fda8-a38f519b1dcb"
      },
      "outputs": [
        {
          "data": {
            "text/plain": [
              "array([[0., 0., 0., 0., 0.],\n",
              "       [0., 0., 0., 0., 0.],\n",
              "       [0., 0., 0., 0., 0.]])"
            ]
          },
          "execution_count": 144,
          "metadata": {},
          "output_type": "execute_result"
        }
      ],
      "source": [
        "ceros"
      ]
    },
    {
      "cell_type": "code",
      "execution_count": null,
      "metadata": {
        "id": "hW98w2VoxcQW"
      },
      "outputs": [],
      "source": [
        "unos = np.ones((3,5))"
      ]
    },
    {
      "cell_type": "code",
      "execution_count": null,
      "metadata": {
        "id": "sAFMnRmQxcQW",
        "outputId": "738de5a3-d6d7-411b-b0dc-d36bc821dda7"
      },
      "outputs": [
        {
          "data": {
            "text/plain": [
              "array([[1., 1., 1., 1., 1.],\n",
              "       [1., 1., 1., 1., 1.],\n",
              "       [1., 1., 1., 1., 1.]])"
            ]
          },
          "execution_count": 147,
          "metadata": {},
          "output_type": "execute_result"
        }
      ],
      "source": [
        "unos"
      ]
    },
    {
      "cell_type": "code",
      "execution_count": null,
      "metadata": {
        "id": "aHvutUxYxcQW",
        "outputId": "3f974e68-d4a2-46b9-caf7-0ba3dcf3448f"
      },
      "outputs": [
        {
          "data": {
            "text/plain": [
              "array([[1., 0., 0., 0., 0.],\n",
              "       [0., 1., 0., 0., 0.],\n",
              "       [0., 0., 1., 0., 0.],\n",
              "       [0., 0., 0., 1., 0.],\n",
              "       [0., 0., 0., 0., 1.]])"
            ]
          },
          "execution_count": 153,
          "metadata": {},
          "output_type": "execute_result"
        }
      ],
      "source": [
        "dia = np.eye(5)\n",
        "dia"
      ]
    },
    {
      "cell_type": "code",
      "execution_count": null,
      "metadata": {
        "id": "pYsJt6jjxcQW",
        "outputId": "8332bae9-0b2e-4c16-83bb-de9bfae414b8"
      },
      "outputs": [
        {
          "data": {
            "text/plain": [
              "array([0, 1, 2, 3, 4, 5, 6, 7])"
            ]
          },
          "execution_count": 148,
          "metadata": {},
          "output_type": "execute_result"
        }
      ],
      "source": [
        "d = np.arange(8)\n",
        "d"
      ]
    },
    {
      "cell_type": "code",
      "execution_count": null,
      "metadata": {
        "id": "7JL-IBO3xcQW",
        "outputId": "55f6585f-f732-41a6-daf0-4902e6ed890a"
      },
      "outputs": [
        {
          "data": {
            "text/plain": [
              "array([ 5, 10])"
            ]
          },
          "execution_count": 149,
          "metadata": {},
          "output_type": "execute_result"
        }
      ],
      "source": [
        "e = np.arange(5,15,5)\n",
        "e"
      ]
    },
    {
      "cell_type": "code",
      "execution_count": null,
      "metadata": {
        "id": "zNTQog4ExcQX",
        "outputId": "b3493cee-9b22-4fd5-ddf9-7350780fc959"
      },
      "outputs": [
        {
          "data": {
            "text/plain": [
              "array([  0.,   5.,  10.,  15.,  20.,  25.,  30.,  35.,  40.,  45.,  50.,\n",
              "        55.,  60.,  65.,  70.,  75.,  80.,  85.,  90.,  95., 100.])"
            ]
          },
          "execution_count": 152,
          "metadata": {},
          "output_type": "execute_result"
        }
      ],
      "source": [
        "f = np.linspace(0,100,21)\n",
        "f"
      ]
    },
    {
      "cell_type": "markdown",
      "metadata": {
        "id": "HieGQcpDxcQX"
      },
      "source": [
        "# Gracias por resolver todos los problemas.\n",
        "Autor: Kevin Tupac Agüero"
      ]
    }
  ],
  "metadata": {
    "kernelspec": {
      "display_name": "Python 3",
      "language": "python",
      "name": "python3"
    },
    "language_info": {
      "codemirror_mode": {
        "name": "ipython",
        "version": 3
      },
      "file_extension": ".py",
      "mimetype": "text/x-python",
      "name": "python",
      "nbconvert_exporter": "python",
      "pygments_lexer": "ipython3",
      "version": "3.8.8"
    },
    "colab": {
      "provenance": []
    }
  },
  "nbformat": 4,
  "nbformat_minor": 0
}